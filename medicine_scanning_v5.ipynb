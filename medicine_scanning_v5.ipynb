{
 "cells": [
  {
   "cell_type": "code",
   "execution_count": 2,
   "metadata": {
    "colab": {
     "base_uri": "https://localhost:8080/",
     "height": 1000
    },
    "collapsed": true,
    "id": "PR2jduloKMU-",
    "outputId": "26ed35d7-3b26-45d4-9be1-f454305344da"
   },
   "outputs": [
    {
     "name": "stdout",
     "output_type": "stream",
     "text": [
      "Requirement already satisfied: pandas in /usr/local/lib/python3.11/dist-packages (2.2.2)\n",
      "Requirement already satisfied: numpy in /usr/local/lib/python3.11/dist-packages (2.0.2)\n",
      "Requirement already satisfied: sentence-transformers in /usr/local/lib/python3.11/dist-packages (3.4.1)\n",
      "Requirement already satisfied: transformers in /usr/local/lib/python3.11/dist-packages (4.51.3)\n",
      "Requirement already satisfied: torch in /usr/local/lib/python3.11/dist-packages (2.6.0+cu124)\n",
      "Collecting fuzzywuzzy\n",
      "  Downloading fuzzywuzzy-0.18.0-py2.py3-none-any.whl.metadata (4.9 kB)\n",
      "Collecting python-Levenshtein\n",
      "  Downloading python_levenshtein-0.27.1-py3-none-any.whl.metadata (3.7 kB)\n",
      "Requirement already satisfied: Pillow in /usr/local/lib/python3.11/dist-packages (11.1.0)\n",
      "Collecting google-cloud-vision\n",
      "  Downloading google_cloud_vision-3.10.1-py3-none-any.whl.metadata (9.5 kB)\n",
      "Requirement already satisfied: protobuf in /usr/local/lib/python3.11/dist-packages (5.29.4)\n",
      "Requirement already satisfied: python-dateutil>=2.8.2 in /usr/local/lib/python3.11/dist-packages (from pandas) (2.8.2)\n",
      "Requirement already satisfied: pytz>=2020.1 in /usr/local/lib/python3.11/dist-packages (from pandas) (2025.2)\n",
      "Requirement already satisfied: tzdata>=2022.7 in /usr/local/lib/python3.11/dist-packages (from pandas) (2025.2)\n",
      "Requirement already satisfied: tqdm in /usr/local/lib/python3.11/dist-packages (from sentence-transformers) (4.67.1)\n",
      "Requirement already satisfied: scikit-learn in /usr/local/lib/python3.11/dist-packages (from sentence-transformers) (1.6.1)\n",
      "Requirement already satisfied: scipy in /usr/local/lib/python3.11/dist-packages (from sentence-transformers) (1.14.1)\n",
      "Requirement already satisfied: huggingface-hub>=0.20.0 in /usr/local/lib/python3.11/dist-packages (from sentence-transformers) (0.30.2)\n",
      "Requirement already satisfied: filelock in /usr/local/lib/python3.11/dist-packages (from transformers) (3.18.0)\n",
      "Requirement already satisfied: packaging>=20.0 in /usr/local/lib/python3.11/dist-packages (from transformers) (24.2)\n",
      "Requirement already satisfied: pyyaml>=5.1 in /usr/local/lib/python3.11/dist-packages (from transformers) (6.0.2)\n",
      "Requirement already satisfied: regex!=2019.12.17 in /usr/local/lib/python3.11/dist-packages (from transformers) (2024.11.6)\n",
      "Requirement already satisfied: requests in /usr/local/lib/python3.11/dist-packages (from transformers) (2.32.3)\n",
      "Requirement already satisfied: tokenizers<0.22,>=0.21 in /usr/local/lib/python3.11/dist-packages (from transformers) (0.21.1)\n",
      "Requirement already satisfied: safetensors>=0.4.3 in /usr/local/lib/python3.11/dist-packages (from transformers) (0.5.3)\n",
      "Requirement already satisfied: typing-extensions>=4.10.0 in /usr/local/lib/python3.11/dist-packages (from torch) (4.13.2)\n",
      "Requirement already satisfied: networkx in /usr/local/lib/python3.11/dist-packages (from torch) (3.4.2)\n",
      "Requirement already satisfied: jinja2 in /usr/local/lib/python3.11/dist-packages (from torch) (3.1.6)\n",
      "Requirement already satisfied: fsspec in /usr/local/lib/python3.11/dist-packages (from torch) (2025.3.2)\n",
      "Collecting nvidia-cuda-nvrtc-cu12==12.4.127 (from torch)\n",
      "  Downloading nvidia_cuda_nvrtc_cu12-12.4.127-py3-none-manylinux2014_x86_64.whl.metadata (1.5 kB)\n",
      "Collecting nvidia-cuda-runtime-cu12==12.4.127 (from torch)\n",
      "  Downloading nvidia_cuda_runtime_cu12-12.4.127-py3-none-manylinux2014_x86_64.whl.metadata (1.5 kB)\n",
      "Collecting nvidia-cuda-cupti-cu12==12.4.127 (from torch)\n",
      "  Downloading nvidia_cuda_cupti_cu12-12.4.127-py3-none-manylinux2014_x86_64.whl.metadata (1.6 kB)\n",
      "Collecting nvidia-cudnn-cu12==9.1.0.70 (from torch)\n",
      "  Downloading nvidia_cudnn_cu12-9.1.0.70-py3-none-manylinux2014_x86_64.whl.metadata (1.6 kB)\n",
      "Collecting nvidia-cublas-cu12==12.4.5.8 (from torch)\n",
      "  Downloading nvidia_cublas_cu12-12.4.5.8-py3-none-manylinux2014_x86_64.whl.metadata (1.5 kB)\n",
      "Collecting nvidia-cufft-cu12==11.2.1.3 (from torch)\n",
      "  Downloading nvidia_cufft_cu12-11.2.1.3-py3-none-manylinux2014_x86_64.whl.metadata (1.5 kB)\n",
      "Collecting nvidia-curand-cu12==10.3.5.147 (from torch)\n",
      "  Downloading nvidia_curand_cu12-10.3.5.147-py3-none-manylinux2014_x86_64.whl.metadata (1.5 kB)\n",
      "Collecting nvidia-cusolver-cu12==11.6.1.9 (from torch)\n",
      "  Downloading nvidia_cusolver_cu12-11.6.1.9-py3-none-manylinux2014_x86_64.whl.metadata (1.6 kB)\n",
      "Collecting nvidia-cusparse-cu12==12.3.1.170 (from torch)\n",
      "  Downloading nvidia_cusparse_cu12-12.3.1.170-py3-none-manylinux2014_x86_64.whl.metadata (1.6 kB)\n",
      "Requirement already satisfied: nvidia-cusparselt-cu12==0.6.2 in /usr/local/lib/python3.11/dist-packages (from torch) (0.6.2)\n",
      "Requirement already satisfied: nvidia-nccl-cu12==2.21.5 in /usr/local/lib/python3.11/dist-packages (from torch) (2.21.5)\n",
      "Requirement already satisfied: nvidia-nvtx-cu12==12.4.127 in /usr/local/lib/python3.11/dist-packages (from torch) (12.4.127)\n",
      "Collecting nvidia-nvjitlink-cu12==12.4.127 (from torch)\n",
      "  Downloading nvidia_nvjitlink_cu12-12.4.127-py3-none-manylinux2014_x86_64.whl.metadata (1.5 kB)\n",
      "Requirement already satisfied: triton==3.2.0 in /usr/local/lib/python3.11/dist-packages (from torch) (3.2.0)\n",
      "Requirement already satisfied: sympy==1.13.1 in /usr/local/lib/python3.11/dist-packages (from torch) (1.13.1)\n",
      "Requirement already satisfied: mpmath<1.4,>=1.1.0 in /usr/local/lib/python3.11/dist-packages (from sympy==1.13.1->torch) (1.3.0)\n",
      "Collecting Levenshtein==0.27.1 (from python-Levenshtein)\n",
      "  Downloading levenshtein-0.27.1-cp311-cp311-manylinux_2_17_x86_64.manylinux2014_x86_64.whl.metadata (3.6 kB)\n",
      "Collecting rapidfuzz<4.0.0,>=3.9.0 (from Levenshtein==0.27.1->python-Levenshtein)\n",
      "  Downloading rapidfuzz-3.13.0-cp311-cp311-manylinux_2_17_x86_64.manylinux2014_x86_64.whl.metadata (12 kB)\n",
      "Requirement already satisfied: google-api-core!=2.0.*,!=2.1.*,!=2.10.*,!=2.2.*,!=2.3.*,!=2.4.*,!=2.5.*,!=2.6.*,!=2.7.*,!=2.8.*,!=2.9.*,<3.0.0,>=1.34.1 in /usr/local/lib/python3.11/dist-packages (from google-api-core[grpc]!=2.0.*,!=2.1.*,!=2.10.*,!=2.2.*,!=2.3.*,!=2.4.*,!=2.5.*,!=2.6.*,!=2.7.*,!=2.8.*,!=2.9.*,<3.0.0,>=1.34.1->google-cloud-vision) (2.24.2)\n",
      "Requirement already satisfied: google-auth!=2.24.0,!=2.25.0,<3.0.0,>=2.14.1 in /usr/local/lib/python3.11/dist-packages (from google-cloud-vision) (2.38.0)\n",
      "Requirement already satisfied: proto-plus<2.0.0,>=1.22.3 in /usr/local/lib/python3.11/dist-packages (from google-cloud-vision) (1.26.1)\n",
      "Requirement already satisfied: googleapis-common-protos<2.0.0,>=1.56.2 in /usr/local/lib/python3.11/dist-packages (from google-api-core!=2.0.*,!=2.1.*,!=2.10.*,!=2.2.*,!=2.3.*,!=2.4.*,!=2.5.*,!=2.6.*,!=2.7.*,!=2.8.*,!=2.9.*,<3.0.0,>=1.34.1->google-api-core[grpc]!=2.0.*,!=2.1.*,!=2.10.*,!=2.2.*,!=2.3.*,!=2.4.*,!=2.5.*,!=2.6.*,!=2.7.*,!=2.8.*,!=2.9.*,<3.0.0,>=1.34.1->google-cloud-vision) (1.70.0)\n",
      "Requirement already satisfied: grpcio<2.0dev,>=1.33.2 in /usr/local/lib/python3.11/dist-packages (from google-api-core[grpc]!=2.0.*,!=2.1.*,!=2.10.*,!=2.2.*,!=2.3.*,!=2.4.*,!=2.5.*,!=2.6.*,!=2.7.*,!=2.8.*,!=2.9.*,<3.0.0,>=1.34.1->google-cloud-vision) (1.71.0)\n",
      "Requirement already satisfied: grpcio-status<2.0.dev0,>=1.33.2 in /usr/local/lib/python3.11/dist-packages (from google-api-core[grpc]!=2.0.*,!=2.1.*,!=2.10.*,!=2.2.*,!=2.3.*,!=2.4.*,!=2.5.*,!=2.6.*,!=2.7.*,!=2.8.*,!=2.9.*,<3.0.0,>=1.34.1->google-cloud-vision) (1.71.0)\n",
      "Requirement already satisfied: cachetools<6.0,>=2.0.0 in /usr/local/lib/python3.11/dist-packages (from google-auth!=2.24.0,!=2.25.0,<3.0.0,>=2.14.1->google-cloud-vision) (5.5.2)\n",
      "Requirement already satisfied: pyasn1-modules>=0.2.1 in /usr/local/lib/python3.11/dist-packages (from google-auth!=2.24.0,!=2.25.0,<3.0.0,>=2.14.1->google-cloud-vision) (0.4.2)\n",
      "Requirement already satisfied: rsa<5,>=3.1.4 in /usr/local/lib/python3.11/dist-packages (from google-auth!=2.24.0,!=2.25.0,<3.0.0,>=2.14.1->google-cloud-vision) (4.9.1)\n",
      "Requirement already satisfied: six>=1.5 in /usr/local/lib/python3.11/dist-packages (from python-dateutil>=2.8.2->pandas) (1.17.0)\n",
      "Requirement already satisfied: charset-normalizer<4,>=2 in /usr/local/lib/python3.11/dist-packages (from requests->transformers) (3.4.1)\n",
      "Requirement already satisfied: idna<4,>=2.5 in /usr/local/lib/python3.11/dist-packages (from requests->transformers) (3.10)\n",
      "Requirement already satisfied: urllib3<3,>=1.21.1 in /usr/local/lib/python3.11/dist-packages (from requests->transformers) (2.3.0)\n",
      "Requirement already satisfied: certifi>=2017.4.17 in /usr/local/lib/python3.11/dist-packages (from requests->transformers) (2025.1.31)\n",
      "Requirement already satisfied: MarkupSafe>=2.0 in /usr/local/lib/python3.11/dist-packages (from jinja2->torch) (3.0.2)\n",
      "Requirement already satisfied: joblib>=1.2.0 in /usr/local/lib/python3.11/dist-packages (from scikit-learn->sentence-transformers) (1.4.2)\n",
      "Requirement already satisfied: threadpoolctl>=3.1.0 in /usr/local/lib/python3.11/dist-packages (from scikit-learn->sentence-transformers) (3.6.0)\n",
      "Requirement already satisfied: pyasn1<0.7.0,>=0.6.1 in /usr/local/lib/python3.11/dist-packages (from pyasn1-modules>=0.2.1->google-auth!=2.24.0,!=2.25.0,<3.0.0,>=2.14.1->google-cloud-vision) (0.6.1)\n",
      "Downloading nvidia_cublas_cu12-12.4.5.8-py3-none-manylinux2014_x86_64.whl (363.4 MB)\n",
      "\u001b[2K   \u001b[90m━━━━━━━━━━━━━━━━━━━━━━━━━━━━━━━━━━━━━━━━\u001b[0m \u001b[32m363.4/363.4 MB\u001b[0m \u001b[31m3.7 MB/s\u001b[0m eta \u001b[36m0:00:00\u001b[0m\n",
      "\u001b[?25hDownloading nvidia_cuda_cupti_cu12-12.4.127-py3-none-manylinux2014_x86_64.whl (13.8 MB)\n",
      "\u001b[2K   \u001b[90m━━━━━━━━━━━━━━━━━━━━━━━━━━━━━━━━━━━━━━━━\u001b[0m \u001b[32m13.8/13.8 MB\u001b[0m \u001b[31m128.0 MB/s\u001b[0m eta \u001b[36m0:00:00\u001b[0m\n",
      "\u001b[?25hDownloading nvidia_cuda_nvrtc_cu12-12.4.127-py3-none-manylinux2014_x86_64.whl (24.6 MB)\n",
      "\u001b[2K   \u001b[90m━━━━━━━━━━━━━━━━━━━━━━━━━━━━━━━━━━━━━━━━\u001b[0m \u001b[32m24.6/24.6 MB\u001b[0m \u001b[31m99.6 MB/s\u001b[0m eta \u001b[36m0:00:00\u001b[0m\n",
      "\u001b[?25hDownloading nvidia_cuda_runtime_cu12-12.4.127-py3-none-manylinux2014_x86_64.whl (883 kB)\n",
      "\u001b[2K   \u001b[90m━━━━━━━━━━━━━━━━━━━━━━━━━━━━━━━━━━━━━━━━\u001b[0m \u001b[32m883.7/883.7 kB\u001b[0m \u001b[31m58.5 MB/s\u001b[0m eta \u001b[36m0:00:00\u001b[0m\n",
      "\u001b[?25hDownloading nvidia_cudnn_cu12-9.1.0.70-py3-none-manylinux2014_x86_64.whl (664.8 MB)\n",
      "\u001b[2K   \u001b[90m━━━━━━━━━━━━━━━━━━━━━━━━━━━━━━━━━━━━━━━━\u001b[0m \u001b[32m664.8/664.8 MB\u001b[0m \u001b[31m1.3 MB/s\u001b[0m eta \u001b[36m0:00:00\u001b[0m\n",
      "\u001b[?25hDownloading nvidia_cufft_cu12-11.2.1.3-py3-none-manylinux2014_x86_64.whl (211.5 MB)\n",
      "\u001b[2K   \u001b[90m━━━━━━━━━━━━━━━━━━━━━━━━━━━━━━━━━━━━━━━━\u001b[0m \u001b[32m211.5/211.5 MB\u001b[0m \u001b[31m10.5 MB/s\u001b[0m eta \u001b[36m0:00:00\u001b[0m\n",
      "\u001b[?25hDownloading nvidia_curand_cu12-10.3.5.147-py3-none-manylinux2014_x86_64.whl (56.3 MB)\n",
      "\u001b[2K   \u001b[90m━━━━━━━━━━━━━━━━━━━━━━━━━━━━━━━━━━━━━━━━\u001b[0m \u001b[32m56.3/56.3 MB\u001b[0m \u001b[31m39.6 MB/s\u001b[0m eta \u001b[36m0:00:00\u001b[0m\n",
      "\u001b[?25hDownloading nvidia_cusolver_cu12-11.6.1.9-py3-none-manylinux2014_x86_64.whl (127.9 MB)\n",
      "\u001b[2K   \u001b[90m━━━━━━━━━━━━━━━━━━━━━━━━━━━━━━━━━━━━━━━━\u001b[0m \u001b[32m127.9/127.9 MB\u001b[0m \u001b[31m7.9 MB/s\u001b[0m eta \u001b[36m0:00:00\u001b[0m\n",
      "\u001b[?25hDownloading nvidia_cusparse_cu12-12.3.1.170-py3-none-manylinux2014_x86_64.whl (207.5 MB)\n",
      "\u001b[2K   \u001b[90m━━━━━━━━━━━━━━━━━━━━━━━━━━━━━━━━━━━━━━━━\u001b[0m \u001b[32m207.5/207.5 MB\u001b[0m \u001b[31m10.4 MB/s\u001b[0m eta \u001b[36m0:00:00\u001b[0m\n",
      "\u001b[?25hDownloading nvidia_nvjitlink_cu12-12.4.127-py3-none-manylinux2014_x86_64.whl (21.1 MB)\n",
      "\u001b[2K   \u001b[90m━━━━━━━━━━━━━━━━━━━━━━━━━━━━━━━━━━━━━━━━\u001b[0m \u001b[32m21.1/21.1 MB\u001b[0m \u001b[31m113.6 MB/s\u001b[0m eta \u001b[36m0:00:00\u001b[0m\n",
      "\u001b[?25hDownloading fuzzywuzzy-0.18.0-py2.py3-none-any.whl (18 kB)\n",
      "Downloading python_levenshtein-0.27.1-py3-none-any.whl (9.4 kB)\n",
      "Downloading levenshtein-0.27.1-cp311-cp311-manylinux_2_17_x86_64.manylinux2014_x86_64.whl (161 kB)\n",
      "\u001b[2K   \u001b[90m━━━━━━━━━━━━━━━━━━━━━━━━━━━━━━━━━━━━━━━━\u001b[0m \u001b[32m161.7/161.7 kB\u001b[0m \u001b[31m17.8 MB/s\u001b[0m eta \u001b[36m0:00:00\u001b[0m\n",
      "\u001b[?25hDownloading google_cloud_vision-3.10.1-py3-none-any.whl (526 kB)\n",
      "\u001b[2K   \u001b[90m━━━━━━━━━━━━━━━━━━━━━━━━━━━━━━━━━━━━━━━━\u001b[0m \u001b[32m526.1/526.1 kB\u001b[0m \u001b[31m42.5 MB/s\u001b[0m eta \u001b[36m0:00:00\u001b[0m\n",
      "\u001b[?25hDownloading rapidfuzz-3.13.0-cp311-cp311-manylinux_2_17_x86_64.manylinux2014_x86_64.whl (3.1 MB)\n",
      "\u001b[2K   \u001b[90m━━━━━━━━━━━━━━━━━━━━━━━━━━━━━━━━━━━━━━━━\u001b[0m \u001b[32m3.1/3.1 MB\u001b[0m \u001b[31m108.6 MB/s\u001b[0m eta \u001b[36m0:00:00\u001b[0m\n",
      "\u001b[?25hInstalling collected packages: fuzzywuzzy, rapidfuzz, nvidia-nvjitlink-cu12, nvidia-curand-cu12, nvidia-cufft-cu12, nvidia-cuda-runtime-cu12, nvidia-cuda-nvrtc-cu12, nvidia-cuda-cupti-cu12, nvidia-cublas-cu12, nvidia-cusparse-cu12, nvidia-cudnn-cu12, Levenshtein, python-Levenshtein, nvidia-cusolver-cu12, google-cloud-vision\n",
      "  Attempting uninstall: nvidia-nvjitlink-cu12\n",
      "    Found existing installation: nvidia-nvjitlink-cu12 12.5.82\n",
      "    Uninstalling nvidia-nvjitlink-cu12-12.5.82:\n",
      "      Successfully uninstalled nvidia-nvjitlink-cu12-12.5.82\n",
      "  Attempting uninstall: nvidia-curand-cu12\n",
      "    Found existing installation: nvidia-curand-cu12 10.3.6.82\n",
      "    Uninstalling nvidia-curand-cu12-10.3.6.82:\n",
      "      Successfully uninstalled nvidia-curand-cu12-10.3.6.82\n",
      "  Attempting uninstall: nvidia-cufft-cu12\n",
      "    Found existing installation: nvidia-cufft-cu12 11.2.3.61\n",
      "    Uninstalling nvidia-cufft-cu12-11.2.3.61:\n",
      "      Successfully uninstalled nvidia-cufft-cu12-11.2.3.61\n",
      "  Attempting uninstall: nvidia-cuda-runtime-cu12\n",
      "    Found existing installation: nvidia-cuda-runtime-cu12 12.5.82\n",
      "    Uninstalling nvidia-cuda-runtime-cu12-12.5.82:\n",
      "      Successfully uninstalled nvidia-cuda-runtime-cu12-12.5.82\n",
      "  Attempting uninstall: nvidia-cuda-nvrtc-cu12\n",
      "    Found existing installation: nvidia-cuda-nvrtc-cu12 12.5.82\n",
      "    Uninstalling nvidia-cuda-nvrtc-cu12-12.5.82:\n",
      "      Successfully uninstalled nvidia-cuda-nvrtc-cu12-12.5.82\n",
      "  Attempting uninstall: nvidia-cuda-cupti-cu12\n",
      "    Found existing installation: nvidia-cuda-cupti-cu12 12.5.82\n",
      "    Uninstalling nvidia-cuda-cupti-cu12-12.5.82:\n",
      "      Successfully uninstalled nvidia-cuda-cupti-cu12-12.5.82\n",
      "  Attempting uninstall: nvidia-cublas-cu12\n",
      "    Found existing installation: nvidia-cublas-cu12 12.5.3.2\n",
      "    Uninstalling nvidia-cublas-cu12-12.5.3.2:\n",
      "      Successfully uninstalled nvidia-cublas-cu12-12.5.3.2\n",
      "  Attempting uninstall: nvidia-cusparse-cu12\n",
      "    Found existing installation: nvidia-cusparse-cu12 12.5.1.3\n",
      "    Uninstalling nvidia-cusparse-cu12-12.5.1.3:\n",
      "      Successfully uninstalled nvidia-cusparse-cu12-12.5.1.3\n",
      "  Attempting uninstall: nvidia-cudnn-cu12\n",
      "    Found existing installation: nvidia-cudnn-cu12 9.3.0.75\n",
      "    Uninstalling nvidia-cudnn-cu12-9.3.0.75:\n",
      "      Successfully uninstalled nvidia-cudnn-cu12-9.3.0.75\n",
      "  Attempting uninstall: nvidia-cusolver-cu12\n",
      "    Found existing installation: nvidia-cusolver-cu12 11.6.3.83\n",
      "    Uninstalling nvidia-cusolver-cu12-11.6.3.83:\n",
      "      Successfully uninstalled nvidia-cusolver-cu12-11.6.3.83\n",
      "Successfully installed Levenshtein-0.27.1 fuzzywuzzy-0.18.0 google-cloud-vision-3.10.1 nvidia-cublas-cu12-12.4.5.8 nvidia-cuda-cupti-cu12-12.4.127 nvidia-cuda-nvrtc-cu12-12.4.127 nvidia-cuda-runtime-cu12-12.4.127 nvidia-cudnn-cu12-9.1.0.70 nvidia-cufft-cu12-11.2.1.3 nvidia-curand-cu12-10.3.5.147 nvidia-cusolver-cu12-11.6.1.9 nvidia-cusparse-cu12-12.3.1.170 nvidia-nvjitlink-cu12-12.4.127 python-Levenshtein-0.27.1 rapidfuzz-3.13.0\n"
     ]
    },
    {
     "data": {
      "application/vnd.colab-display-data+json": {
       "id": "4a9fccb1e19241d7a459a08daa2ad3ea",
       "pip_warning": {
        "packages": [
         "google"
        ]
       }
      }
     },
     "metadata": {},
     "output_type": "display_data"
    }
   ],
   "source": [
    "!pip install pandas numpy sentence-transformers transformers torch fuzzywuzzy python-Levenshtein Pillow google-cloud-vision protobuf"
   ]
  },
  {
   "cell_type": "code",
   "execution_count": 3,
   "metadata": {
    "colab": {
     "base_uri": "https://localhost:8080/"
    },
    "id": "ezv6bL96KuNw",
    "outputId": "b5515003-76db-4fee-e6a9-ca5cd8a27387"
   },
   "outputs": [
    {
     "name": "stdout",
     "output_type": "stream",
     "text": [
      "Collecting faiss-cpu\n",
      "  Downloading faiss_cpu-1.10.0-cp311-cp311-manylinux_2_28_x86_64.whl.metadata (4.4 kB)\n",
      "Requirement already satisfied: numpy<3.0,>=1.25.0 in /usr/local/lib/python3.11/dist-packages (from faiss-cpu) (2.0.2)\n",
      "Requirement already satisfied: packaging in /usr/local/lib/python3.11/dist-packages (from faiss-cpu) (24.2)\n",
      "Downloading faiss_cpu-1.10.0-cp311-cp311-manylinux_2_28_x86_64.whl (30.7 MB)\n",
      "\u001b[2K   \u001b[90m━━━━━━━━━━━━━━━━━━━━━━━━━━━━━━━━━━━━━━━━\u001b[0m \u001b[32m30.7/30.7 MB\u001b[0m \u001b[31m77.8 MB/s\u001b[0m eta \u001b[36m0:00:00\u001b[0m\n",
      "\u001b[?25hInstalling collected packages: faiss-cpu\n",
      "Successfully installed faiss-cpu-1.10.0\n"
     ]
    }
   ],
   "source": [
    "!pip install faiss-cpu"
   ]
  },
  {
   "cell_type": "code",
   "execution_count": 1,
   "metadata": {
    "colab": {
     "base_uri": "https://localhost:8080/"
    },
    "id": "Rfrxq1-6KTPl",
    "outputId": "760423b7-2342-4f66-8614-943f8ffc303f"
   },
   "outputs": [
    {
     "name": "stdout",
     "output_type": "stream",
     "text": [
      "Mounted at /content/drive\n"
     ]
    }
   ],
   "source": [
    "# Mount Google Drive\n",
    "from google.colab import drive\n",
    "\n",
    "drive.mount('/content/drive')"
   ]
  },
  {
   "cell_type": "code",
   "execution_count": 2,
   "metadata": {
    "id": "baXie3U-HRyd"
   },
   "outputs": [],
   "source": [
    "# Setup\n",
    "import os\n",
    "import pandas as pd\n",
    "import faiss\n",
    "import numpy as np\n",
    "from sentence_transformers import SentenceTransformer\n",
    "\n",
    "DRIVE_FOLDER = \"/content/drive/My Drive/MsDSAI/January 2025/NLP/Project/Data/\"\n",
    "os.makedirs(DRIVE_FOLDER, exist_ok=True)\n",
    "\n",
    "# Paths\n",
    "csv_path = os.path.join(DRIVE_FOLDER, \"drugbank_clean.csv\")\n",
    "index_path = os.path.join(DRIVE_FOLDER, \"drug_index.faiss\")\n",
    "embed_path = os.path.join(DRIVE_FOLDER, \"drug_embeddings.npy\")"
   ]
  },
  {
   "cell_type": "code",
   "execution_count": 3,
   "metadata": {
    "colab": {
     "base_uri": "https://localhost:8080/"
    },
    "id": "BkWakqqMI2r-",
    "outputId": "09d70efc-31e4-4f46-9005-79f55aca5994"
   },
   "outputs": [
    {
     "name": "stdout",
     "output_type": "stream",
     "text": [
      "                           drugbank_ids                 name  \\\n",
      "0  ['DB00001', 'BTD00024', 'BIOD00024']            Lepirudin   \n",
      "1  ['DB00002', 'BTD00071', 'BIOD00071']            Cetuximab   \n",
      "2  ['DB00003', 'BTD00001', 'BIOD00001']         Dornase alfa   \n",
      "3  ['DB00004', 'BTD00084', 'BIOD00084']  Denileukin diftitox   \n",
      "4  ['DB00005', 'BTD00052', 'BIOD00052']           Etanercept   \n",
      "\n",
      "                                         description  \\\n",
      "0  Lepirudin is a recombinant hirudin formed by 6...   \n",
      "1  Cetuximab is a recombinant chimeric human/mous...   \n",
      "2  Dornase alfa is a biosynthetic form of human d...   \n",
      "3  Denileukin diftitox is an IL2-receptor-directe...   \n",
      "4  Dimeric fusion protein consisting of the extra...   \n",
      "\n",
      "                                          indication  \\\n",
      "0  Lepirudin is indicated for anticoagulation in ...   \n",
      "1  Cetuximab indicated for the treatment of local...   \n",
      "2  Used as adjunct therapy in the treatment of cy...   \n",
      "3  Denileukin diftitox was previously indicated f...   \n",
      "4  Etanercept is indicated for the treatment of m...   \n",
      "\n",
      "                                 mechanism_of_action  \\\n",
      "0  Lepirudin is a direct thrombin inhibitor used ...   \n",
      "1  The epidermal growth factor receptor (EGFR) is...   \n",
      "2  Dornase alfa is a biosynthetic form of human D...   \n",
      "3  Denileukin diftitox is a fusion protein compos...   \n",
      "4  There are two distinct receptors for TNF (TNFR...   \n",
      "\n",
      "                                            toxicity  \n",
      "0  The acute toxicity of intravenous lepirudin wa...  \n",
      "1  The intravenous LD<sub>50</sub> is > 300 mg/kg...  \n",
      "2  Adverse reactions occur at a frequency of < 1/...  \n",
      "3  There is limited information regarding the acu...  \n",
      "4                                                NaN  \n"
     ]
    }
   ],
   "source": [
    "# Load DrugBank Dataset\n",
    "if os.path.exists(csv_path):\n",
    "    df = pd.read_csv(csv_path)\n",
    "    print(df.head())\n",
    "else:\n",
    "    # TODO: Parse XML yourself if not exist\n",
    "    raise FileNotFoundError(\"Please prepare drugbank_clean.csv first.\")"
   ]
  },
  {
   "cell_type": "code",
   "execution_count": 5,
   "metadata": {
    "colab": {
     "base_uri": "https://localhost:8080/",
     "height": 17,
     "referenced_widgets": [
      "1dd08134ac104d928b410b87c3012680",
      "41230e3723f64a6ebfd982ffacf4535a",
      "5beccd74ebb24091afe8f56778f95144",
      "f93db057564641239a995a1d1e262699",
      "1563a0cbf02f4735a659f295ef202e0c",
      "fc6e38230f8d4916b68147b3c6b41e7c",
      "74328a8323a74730be061cf6d1a2ff91",
      "5b8616a064a94bda9b8fe0e2a5542e06",
      "aac8db7abd2c40e5b67016eb2104cf84",
      "43b80c1e65b947a3b7acbfa8ecd331c9",
      "bb7fd346206844b5b8695ecb6e5cf2aa",
      "05f393b122e74a7287c63510415c36d4",
      "ab5d03c3a6764892ae30372cfad7ffc4",
      "54eadf8386dd4cb89a4b1294f3f1ed10",
      "5378b920a1bb47deb47dacf0d02e616a",
      "56c9b6cefb6b41ed9215ec70d9023354",
      "84ea6594b448426ab5721dc26bc459e1",
      "a0e16bed90fb4fe9a028135b659afe1e",
      "a0ad22fb20414e2baf4d2bf6d82de5b6",
      "e47a40822ef94328921e7dcee3bf3cbb"
     ]
    },
    "id": "BKA8DL7DMXR_",
    "outputId": "d3429864-5cb1-4f21-aba4-c8cc1dcf172f"
   },
   "outputs": [
    {
     "data": {
      "application/vnd.jupyter.widget-view+json": {
       "model_id": "1dd08134ac104d928b410b87c3012680",
       "version_major": 2,
       "version_minor": 0
      },
      "text/plain": [
       "VBox(children=(HTML(value='<center> <img\\nsrc=https://huggingface.co/front/assets/huggingface_logo-noborder.sv…"
      ]
     },
     "metadata": {},
     "output_type": "display_data"
    }
   ],
   "source": [
    "# login to hugging face\n",
    "from huggingface_hub import notebook_login\n",
    "\n",
    "notebook_login()"
   ]
  },
  {
   "cell_type": "code",
   "execution_count": 6,
   "metadata": {
    "id": "8Y3cExeVI6jN"
   },
   "outputs": [],
   "source": [
    "# Load FAISS Index\n",
    "model = SentenceTransformer('all-MiniLM-L6-v2')\n",
    "\n",
    "if os.path.exists(index_path) and os.path.exists(embed_path):\n",
    "    index = faiss.read_index(index_path)\n",
    "    embeddings = np.load(embed_path)\n",
    "else:\n",
    "    print(\"Building FAISS index...\")\n",
    "    texts = df[\"description\"].fillna(\"\").tolist()\n",
    "    embeddings = model.encode(texts, show_progress_bar=True)\n",
    "\n",
    "    index = faiss.IndexFlatL2(embeddings.shape[1])\n",
    "    index.add(np.array(embeddings))\n",
    "\n",
    "    # Save\n",
    "    np.save(embed_path, embeddings)\n",
    "    faiss.write_index(index, index_path)\n",
    "    print(\"Saved FAISS index and embeddings.\")"
   ]
  },
  {
   "cell_type": "code",
   "execution_count": 7,
   "metadata": {
    "id": "xbjhyW1NJAyz"
   },
   "outputs": [],
   "source": [
    "# OCR and Extract Text\n",
    "from google.cloud import vision\n",
    "\n",
    "def ocr_google(path):\n",
    "    client = vision.ImageAnnotatorClient()\n",
    "    with open(path, 'rb') as img_file:\n",
    "        content = img_file.read()\n",
    "    image = vision.Image(content=content)\n",
    "    response = client.text_detection(image=image)\n",
    "    return response.text_annotations[0].description if response.text_annotations else \"\""
   ]
  },
  {
   "cell_type": "code",
   "execution_count": 8,
   "metadata": {
    "id": "WptftGssJDxy"
   },
   "outputs": [],
   "source": [
    "# Fuzzy Match OCR Result to Drug Name\n",
    "from fuzzywuzzy import process\n",
    "\n",
    "def find_best_drug(ocr_text, drug_names):\n",
    "    words = ocr_text.split()\n",
    "    candidates = []\n",
    "\n",
    "    for word in words:\n",
    "        match, score = process.extractOne(word, drug_names)\n",
    "        if score > 85:\n",
    "            candidates.append((match, score))\n",
    "\n",
    "    if candidates:\n",
    "        candidates.sort(key=lambda x: x[1], reverse=True)\n",
    "        return candidates[0][0]\n",
    "    else:\n",
    "        return None"
   ]
  },
  {
   "cell_type": "code",
   "execution_count": 9,
   "metadata": {
    "id": "NSCw3n-RJHVd"
   },
   "outputs": [],
   "source": [
    "# Retrieve Info from FAISS\n",
    "def retrieve_drug_info(drug_name):\n",
    "    query_emb = model.encode([drug_name])\n",
    "    D, I = index.search(np.array(query_emb), k=1)\n",
    "    return df.iloc[I[0][0]].to_dict()"
   ]
  },
  {
   "cell_type": "code",
   "execution_count": 12,
   "metadata": {
    "colab": {
     "base_uri": "https://localhost:8080/"
    },
    "id": "6EqPtpalNkvB",
    "outputId": "23694156-f672-443a-8dd6-7cf4f925d2be"
   },
   "outputs": [
    {
     "name": "stdout",
     "output_type": "stream",
     "text": [
      "True\n",
      "NVIDIA A100-SXM4-40GB\n"
     ]
    }
   ],
   "source": [
    "import torch\n",
    "print(torch.cuda.is_available())\n",
    "print(torch.cuda.get_device_name(0))"
   ]
  },
  {
   "cell_type": "code",
   "execution_count": 11,
   "metadata": {
    "colab": {
     "base_uri": "https://localhost:8080/",
     "height": 418,
     "referenced_widgets": [
      "2d0b702349a14628b4eb2efb604f91c7",
      "3e6c1f3f075d42bbb370a23a0063e107",
      "864c5d829ea1439895146e71f8c85cf1",
      "d95a431111304c908a68b249e5f797ab",
      "ec7f36cf46d24427bfc19c03a8df6896",
      "ca0ea3ce032c4a5cac6dcad9f50b1656",
      "aa101ffddb9e48658a70530ce483a2ff",
      "370183a8b9ba447e82b17cff6f797cf9",
      "c7d9fd0d551147e7bcfedfe5578acff1",
      "777b0bf078e54d3598147b9191932981",
      "bf311647676f485a830ad5ccd16a30da",
      "5c7d57969c6c44c18ded6f505b5ac1b7",
      "27d17c35625944239d23f8cb52191b95",
      "09062af0f09040da87a53a5c6d17aabe",
      "9b1caefb3b034286ad91e09bde0b2ec9",
      "92929bfe87e7490b9a167cf2f42eece6",
      "5969d9e1556e45d38ede5d0abdadfc0e",
      "1ffbb405540240b98f85a3f5ef844e42",
      "8533a0740269461aa9ba7ef2ce73f94e",
      "390f6774843f42f18d5ee9b894f949af",
      "518a30e0832540cab0fc62de831a1612",
      "026219fe1bb54cf6b74e66460f176dd1",
      "84c1d412b9eb473585d542f71f50ace4",
      "cd8c865ac9694161a47a15da1a7eb2da",
      "0d68eeaee3ff453cae1e161ccdfc8684",
      "acf4bb44c6064bf8be2ab10f50de224b",
      "b88afd29e73b4b05ad1b5d44c4fd245f",
      "d8a815236a6d49c3b106ee7f4354e46b",
      "eb6c555b811147178ebbc35ff3653340",
      "ecbee10f95034e42901af8905ca60209",
      "768af299656745a98186373ebf1adee6",
      "c8d11144e4024e5d901f6ac9c82c2b76",
      "cf03520df67645c6a400a89f1cc70e7f",
      "506e5f1992524b94a3636480c5a9eaf0",
      "a92df5e9b0d44b928e76410a68752b91",
      "efccb4ac8313424abc973790ccfb3873",
      "de6d8a8f698e4206bb0a63b808fe15b4",
      "199116ee1c604dbbb08917ae8baebf88",
      "3512066e0a6f488bb32e7d29a58cf0aa",
      "e9efb0c018b14b71898205593d447f08",
      "a806e6f07f71473b8852ad9134da752f",
      "e7f7ddb56eb34866a373320d2e093763",
      "d070e08b91bb4bfda8f20c444ad942e9",
      "78d0d45619e4467daa548f49448e084f",
      "f12a1ec5950b4b55a3435d4dbe4a9b53",
      "eb36284f4a604f60a7bf181a4630ccd4",
      "be8e980c53c7440daeb579abcd33eb92",
      "1339982b1eef4fe09a0f4ed1225bc74b",
      "769d93c92ea545febf02ef5e7c87b3f1",
      "93dbd1955db647c399e2a20d0a09281a",
      "169bc95ecaa7485580567a949ad58c15",
      "d2f78fb621434a40ade8bd065f995276",
      "f36ef8f3ed66489e828fa99cf693ec01",
      "f90034a1b049469ea4c3608f868b5f49",
      "ce6f918d25174d45a38aedb077eb95eb",
      "6c9d2594f53f4870afc05924281b09be",
      "46e5cf0f44a84acd82fb40a68b4afed8",
      "2348c050edc3477e8d2265ec6c9782d8",
      "963980b09f694d7eb579c30a82fee6c7",
      "143724f1149c4140be902a3c3e0b0c5e",
      "6dc82313b55c4ff3813b5dc57e22ad3f",
      "d5cbc7d62c84444abf51f556a5c31d1b",
      "d97eb3f624a2448fa233742b40b0c6db",
      "5ba17bd9300d41ed936a12963b56ec41",
      "b4421d719f9542c496160238c0b460c0",
      "eee7700398b84705b2d45f140f879177",
      "fcc91a777c934489831a75e28c396bf3",
      "2a15841250c84a9c86f210cfed6e7afb",
      "125cec5224ee4727b6685693de383faf",
      "9388dcd1ea174ad2bcfb47f4d088a344",
      "5a034321e8d34c97abd639ed2354c87c",
      "fd69bf928503451da7bfca0ec6dfb6d4",
      "5aadb6371af64f2584a7e30208eb670c",
      "108e61a85bb54e6980f17074842a4829",
      "17f53c874d4048ef8dfacbf3e8f4ba37",
      "dbefdbc5b58a4db1bed2ee258caf6f8d",
      "a6b964d17a6143bcbddd6bfee2233e39",
      "29f46a621b2c4f4fa9540da385a88f54",
      "a8e7815747ce4055b491a3621060d876",
      "5b0670ccd4dd4fbea2b15b5f22fbfa82",
      "2d8b8dc5ac844e13919e1a8b823e89db",
      "58f7b7a57c0c4e2b9695bec48f679201",
      "54c9cea2f9874f2797efdf787b7d17c1",
      "16eda73473be48fbb512655622786d18",
      "8a679150fe9d454e9aedd71e91b942a0",
      "e79cfe7467d74a05a1df962202e351a2",
      "0146b291e355496e92a6efcb5ebbaa56",
      "1ca551f436c14c279e655f186dc10acb",
      "583f5175e87b4633830763cedaac82c2",
      "fb244c07d2c645a4b51934d2cfc4e86d",
      "0d4ac2b40abe4085bc4a5b41f279f988",
      "6a74a8f1aed04858bdfdff210e3a52fd",
      "8715458110b6470b93409665b9f286f8",
      "e12cd6f6fa374db9b869f606ade92c37",
      "5c2c768e0ede403e87a751815f1f9d3a",
      "2455d9cae1c44b288f886fdd64628d88",
      "3ed2dd75bba44009a475b1201f186fa2",
      "e6229129261b4208bdd04a934dd7e62a",
      "43af765e61e74d3db03ab577ff200d5f",
      "25a1cd9917504938b5bb0e02db31e81e",
      "03486fd98c2a4259b619f272aec7b690",
      "75e1bad1e7ae4a208fe8aac0a3e78d88",
      "9a779f6bc11d4abfbf0f1d1e501a77dd",
      "40e7796cc5d642d2aeb1a0850ff31994",
      "cfa64d6e42ce4581ad04de0a81cd0edc",
      "427c80cdcaab4fa5a3309ce5aa84f665",
      "68fdc76188b34b609295d2e6c31aa3ac",
      "1992d56385e548dab2721a19807530bf",
      "3bbcf0a14ad148e69271451fba19c220",
      "5afdc8aadec14c0fbf42979bb5287620",
      "034646d935984724984df81bacb71c3b",
      "925c5a5392d84bb5bd0499af668f0364",
      "72fcfdb3a4d74690a3e08d66a2104022",
      "9b4f548148624f3da6f6f926939170cb",
      "00e72d9d2ba3437aaf1e8bf491265686",
      "88af7167266b438a94ba2f4a9dc3a0e4",
      "cbbe789ae33245d4a7673368466cefe9",
      "69232113b20c466c94589f2eec54dccf",
      "7ecf93281764404792081188c9037d9a",
      "966522b50302409db17bcbf572fc3844",
      "cc26f682e00f49cb8965e8c77b6f6d2f",
      "1a565e9e267b47cb81b98079e6966d24",
      "5f19ce89286b4141a92c2d718af0e70d",
      "c42c48e191c94dc18c5ea29c701d4537",
      "23d8dce5cc1b47d0a2b1f69cfd3b3b0d",
      "bf2a091c4f23483c88dc64963df87a38",
      "1d6871d2e3d84d2997f62db795c55d98",
      "13d22d7e3cab40b9b5105649b0669c68",
      "7ab2f6b921934ef09ef635ae6374d270",
      "aed790ac701a4d96958c41c47c7d004e",
      "ece9e4d2e6a44ff3a066c331f43d5b75",
      "bbb77313c9684790a16f0a928a476486"
     ]
    },
    "id": "XVnKkvh-JK-v",
    "outputId": "f17ecf5f-2717-4617-c0a9-d22f0c189901"
   },
   "outputs": [
    {
     "data": {
      "application/vnd.jupyter.widget-view+json": {
       "model_id": "2d0b702349a14628b4eb2efb604f91c7",
       "version_major": 2,
       "version_minor": 0
      },
      "text/plain": [
       "config.json:   0%|          | 0.00/596 [00:00<?, ?B/s]"
      ]
     },
     "metadata": {},
     "output_type": "display_data"
    },
    {
     "data": {
      "application/vnd.jupyter.widget-view+json": {
       "model_id": "5c7d57969c6c44c18ded6f505b5ac1b7",
       "version_major": 2,
       "version_minor": 0
      },
      "text/plain": [
       "model.safetensors.index.json:   0%|          | 0.00/25.1k [00:00<?, ?B/s]"
      ]
     },
     "metadata": {},
     "output_type": "display_data"
    },
    {
     "data": {
      "application/vnd.jupyter.widget-view+json": {
       "model_id": "84c1d412b9eb473585d542f71f50ace4",
       "version_major": 2,
       "version_minor": 0
      },
      "text/plain": [
       "Fetching 3 files:   0%|          | 0/3 [00:00<?, ?it/s]"
      ]
     },
     "metadata": {},
     "output_type": "display_data"
    },
    {
     "data": {
      "application/vnd.jupyter.widget-view+json": {
       "model_id": "506e5f1992524b94a3636480c5a9eaf0",
       "version_major": 2,
       "version_minor": 0
      },
      "text/plain": [
       "model-00002-of-00003.safetensors:   0%|          | 0.00/5.00G [00:00<?, ?B/s]"
      ]
     },
     "metadata": {},
     "output_type": "display_data"
    },
    {
     "data": {
      "application/vnd.jupyter.widget-view+json": {
       "model_id": "f12a1ec5950b4b55a3435d4dbe4a9b53",
       "version_major": 2,
       "version_minor": 0
      },
      "text/plain": [
       "model-00003-of-00003.safetensors:   0%|          | 0.00/4.54G [00:00<?, ?B/s]"
      ]
     },
     "metadata": {},
     "output_type": "display_data"
    },
    {
     "data": {
      "application/vnd.jupyter.widget-view+json": {
       "model_id": "6c9d2594f53f4870afc05924281b09be",
       "version_major": 2,
       "version_minor": 0
      },
      "text/plain": [
       "model-00001-of-00003.safetensors:   0%|          | 0.00/4.94G [00:00<?, ?B/s]"
      ]
     },
     "metadata": {},
     "output_type": "display_data"
    },
    {
     "data": {
      "application/vnd.jupyter.widget-view+json": {
       "model_id": "fcc91a777c934489831a75e28c396bf3",
       "version_major": 2,
       "version_minor": 0
      },
      "text/plain": [
       "Loading checkpoint shards:   0%|          | 0/3 [00:00<?, ?it/s]"
      ]
     },
     "metadata": {},
     "output_type": "display_data"
    },
    {
     "data": {
      "application/vnd.jupyter.widget-view+json": {
       "model_id": "29f46a621b2c4f4fa9540da385a88f54",
       "version_major": 2,
       "version_minor": 0
      },
      "text/plain": [
       "generation_config.json:   0%|          | 0.00/111 [00:00<?, ?B/s]"
      ]
     },
     "metadata": {},
     "output_type": "display_data"
    },
    {
     "data": {
      "application/vnd.jupyter.widget-view+json": {
       "model_id": "583f5175e87b4633830763cedaac82c2",
       "version_major": 2,
       "version_minor": 0
      },
      "text/plain": [
       "tokenizer_config.json:   0%|          | 0.00/2.10k [00:00<?, ?B/s]"
      ]
     },
     "metadata": {},
     "output_type": "display_data"
    },
    {
     "data": {
      "application/vnd.jupyter.widget-view+json": {
       "model_id": "25a1cd9917504938b5bb0e02db31e81e",
       "version_major": 2,
       "version_minor": 0
      },
      "text/plain": [
       "tokenizer.model:   0%|          | 0.00/493k [00:00<?, ?B/s]"
      ]
     },
     "metadata": {},
     "output_type": "display_data"
    },
    {
     "data": {
      "application/vnd.jupyter.widget-view+json": {
       "model_id": "034646d935984724984df81bacb71c3b",
       "version_major": 2,
       "version_minor": 0
      },
      "text/plain": [
       "tokenizer.json:   0%|          | 0.00/1.80M [00:00<?, ?B/s]"
      ]
     },
     "metadata": {},
     "output_type": "display_data"
    },
    {
     "data": {
      "application/vnd.jupyter.widget-view+json": {
       "model_id": "1a565e9e267b47cb81b98079e6966d24",
       "version_major": 2,
       "version_minor": 0
      },
      "text/plain": [
       "special_tokens_map.json:   0%|          | 0.00/414 [00:00<?, ?B/s]"
      ]
     },
     "metadata": {},
     "output_type": "display_data"
    },
    {
     "name": "stderr",
     "output_type": "stream",
     "text": [
      "Device set to use cuda:0\n"
     ]
    }
   ],
   "source": [
    "# Generate Summary with LLM\n",
    "from transformers import pipeline\n",
    "\n",
    "generator = pipeline(\n",
    "    \"text-generation\",\n",
    "    model=\"mistralai/Mistral-7B-Instruct-v0.2\",\n",
    "    device=0  # Move to GPU if available\n",
    ")\n",
    "\n",
    "def build_prompt(info):\n",
    "    return f\"\"\"\n",
    "You are a medical assistant. Summarize the following drug information.\n",
    "\n",
    "Name: {info.get('name', 'N/A')}\n",
    "Description: {info.get('description', 'N/A')}\n",
    "Indication: {info.get('indication', 'N/A')}\n",
    "Mechanism of Action: {info.get('mechanism_of_action', 'N/A')}\n",
    "Toxicity: {info.get('toxicity', 'N/A')}\n",
    "\n",
    "Summarize this for a general audience.\n",
    "\"\"\""
   ]
  },
  {
   "cell_type": "code",
   "execution_count": 13,
   "metadata": {
    "id": "o62GFRxXJOmE"
   },
   "outputs": [],
   "source": [
    "def generate_summary(info):\n",
    "    prompt = build_prompt(info)\n",
    "    summary = generator(prompt, max_new_tokens=250)[0][\"generated_text\"]\n",
    "    return summary"
   ]
  },
  {
   "cell_type": "code",
   "execution_count": 16,
   "metadata": {
    "id": "eZq-YgmYPe6K"
   },
   "outputs": [],
   "source": [
    "import os\n",
    "\n",
    "key_path = os.path.join(DRIVE_FOLDER, \"google-cloud-service-key.json\")\n",
    "os.environ[\"GOOGLE_APPLICATION_CREDENTIALS\"] = key_path"
   ]
  },
  {
   "cell_type": "code",
   "execution_count": 17,
   "metadata": {
    "colab": {
     "base_uri": "https://localhost:8080/"
    },
    "id": "KlDuDX1mJQvm",
    "outputId": "280f61ba-1d4e-49fe-f1ba-d851027d7a62"
   },
   "outputs": [
    {
     "name": "stdout",
     "output_type": "stream",
     "text": [
      "OCR Result: «medical zadvice beyond 3 days;\n",
      "Paracetamol overdose may be injurious to ver\n",
      "To be used as directed by physician\n",
      "Store at temperature not exceeding 30°C.\n",
      "Protect from light and oisture.\n",
      "Keep out of reach of children Mfg. Lic. No.: 25A/AD/258A\n",
      "WARNING: Taking more than daily dose may cause)\n",
      "serious liver damage or allergic reactions (e.g. swing)\n",
      "of the face, mouth and throat, difficulty in breathing,\n",
      "Filching or rash)\n",
      "Manufactured by GlaxoSmithKline\n",
      "Pharmaceuticals Limited\n",
      "At Plot No. D-5, MIDC Industrial Area,\n",
      "Paithan, Aurangabad-431 148\n",
      "Regd. Office: Dr. Annie Besant Road,\n",
      "Worli, Mumbai 400 030.\n",
      "Trade marks are owned by or licensed\n",
      "to the GSK group of companies\n",
      "For Toll free Customer Care Call 1800222203\n",
      "Paracetamol Tablets IP 500 mg sk\n",
      "Calpol 500\n",
      "Each uncoated tablet contains\n",
      "Paracetamol IP 500 mg\n",
      "Analgesic and Antipyretic\n",
      "15 Tablets\n",
      "Dose Adults & children 12 years and above: 1-2 tablets\n",
      "4-6 hourly upto maximum 4000mg per day Children i\n",
      "6-11years 10-15mg/kg 4-6 houry upto maximum\n",
      "60mg kg per day Children 6-Byears: 250mg (tablet)\n",
      "Children 9-11years: 500mg (1 tablet). Minimum dosing\n",
      "interval: 4 hours. Do not exceed dose or use without\n",
      "medical advice beyond 3 days.\n",
      "Paracetamol overdose may be injurious to liver.\n",
      "To be used as directed by physician\n",
      "Store at temperature not exceeding 30°C.\n",
      "Protect from light and cooisture.\n",
      "Keep out of reach of children Mig Lic. No: 25A/AD258A\n",
      "WARNING: Taking more than daily dose may cause\n",
      "serious liver damage or alergic reactions (eg oweling\n",
      "of the face, mouth and shecat, difficulty in breathing\n",
      "itching or rash)\n",
      "Manufactured by: GlaxoSmithKline\n",
      "Pharmaceuticals Limited\n",
      "Ab Plot No. D-5, M.I.D.C. Industrial Area,\n",
      "Pathan, Aurangabad 431.148\n",
      "Regd Office: Dr. Annie Besant Road,\n",
      "Work. Mumbai 400 030:\n",
      "Trademarks are owned by red\n",
      "Calpol 500 Calpol 500 Calpol 500 Calpol 500 Calpo\n",
      "mol Ta\n",
      "mol\n",
      "Ca\n",
      "500 mg\n",
      "pol\n",
      "00\n",
      "Apol 50\n",
      "cetamol T\n",
      "NO C\n",
      "ame\n",
      "00 C\n",
      "IP 500\n",
      "mol Tablets IP 500 mg Paracetamad Tablets IP 500\n",
      "Calpe\n",
      "mol\n",
      "Ca\n",
      "mol\n",
      "Calpol 500\n",
      "00 m\n",
      "pot\n",
      "O\n",
      "500 mg\n",
      "500 Cale\n",
      "amo\n",
      "70 6\n",
      "etamol\n",
      "Calpol\n",
      "500\n",
      "Ape\n",
      "509\n",
      "Calpol 500 Calpol 500 Calpol 500 Calpol 900 Calpol\n",
      "nol To\n",
      "Ca\n",
      "nol\n",
      "Cal\n",
      "etemal T\n",
      "00 C\n",
      "amo\n",
      "P 500\n",
      "alpes\n",
      "mol Tablets IP 500 mg Paracetamol Tablets IP 500\n",
      "500 mg\n",
      "ool S\n",
      "30 m\n",
      "alpol 50\n",
      "500 Ca\n",
      "Calpo\n",
      "alpol 500\n",
      "500 Cal\n",
      "Calpol\n",
      "nol\n",
      "00 m\n",
      "amo\n",
      "500\n",
      "Ca\n",
      "pol\n",
      "10 6\n",
      "ped\n",
      "nol\n",
      "500 mg\n",
      "etamol\n",
      "500\n",
      "Calpol 500\n",
      "mol T\n",
      "500 mp\n",
      "C\n",
      "ol 5\n",
      "nol\n",
      "08\n",
      "Calp\n",
      "alpol 500\n",
      "Tablets IP 500 mg\n",
      "Calpol 500 Calpol 500 Calpol 500 Calpol\n",
      "etamol\n",
      "10 0\n",
      "amd\n",
      "500 Calpe\n",
      "500\n",
      "500\n",
      "Calpoi\n",
      "Paracetamol Tables IP 50\n"
     ]
    },
    {
     "name": "stderr",
     "output_type": "stream",
     "text": [
      "WARNING:root:Applied processor reduces input query to empty string, all comparisons will have score 0. [Query: '&']\n"
     ]
    },
    {
     "name": "stdout",
     "output_type": "stream",
     "text": [
      "Best Matched Drug: Medical air\n"
     ]
    },
    {
     "name": "stderr",
     "output_type": "stream",
     "text": [
      "Setting `pad_token_id` to `eos_token_id`:2 for open-end generation.\n"
     ]
    },
    {
     "name": "stdout",
     "output_type": "stream",
     "text": [
      "Summary:\n",
      " \n",
      "You are a medical assistant. Summarize the following drug information.\n",
      "\n",
      "Name: Medical air\n",
      "Description: Medical air is supplied by a special air compressor to patient care areas using clean outside air.\n",
      "Indication: For use as a source of clean air [FDA Label].\n",
      "Mechanism of Action: Air is approximately 21% oxygen which enters the body through the lungs, crossing the alveolar membrane to reach systemic circulation [T36]. One there it is bound by hemoglobin and transported to tissues thoughout the body where it is used as a terminal electron acceptor in oxidative phosphorylation. This allows efficient generation of adenosine triphosphate, the primary storage molecule for energy, in the mitochondria.\n",
      "Toxicity: nan\n",
      "\n",
      "Summarize this for a general audience.\n",
      "\n",
      "Medical air, also known as just plain air, is a type of gas that is used in healthcare settings to provide patients with clean air to breathe. It comes from a special compressor that filters out impurities from the outside air. The main component of medical air is oxygen, which makes up about 21% of the gas. When we breathe in oxygen, it enters our lungs and gets absorbed into our bloodstream. Once in our bloodstream, oxygen binds to a protein called hemoglobin and is transported to all the cells in our body. In our cells, oxygen acts as a fuel source, helping to produce energy for our bodies to function properly. Medical air is considered very safe, with no known toxicity.\n"
     ]
    }
   ],
   "source": [
    "# Input\n",
    "image_path = os.path.join(DRIVE_FOLDER, \"Calpol500.jpg\")\n",
    "\n",
    "# 1. OCR\n",
    "ocr_text = ocr_google(image_path)\n",
    "print(\"OCR Result:\", ocr_text)\n",
    "\n",
    "# 2. Find Drug\n",
    "best_drug_name = find_best_drug(ocr_text, df[\"name\"].tolist())\n",
    "print(\"Best Matched Drug:\", best_drug_name)\n",
    "\n",
    "# 3. Retrieve Drug Info\n",
    "if best_drug_name:\n",
    "    drug_info = retrieve_drug_info(best_drug_name)\n",
    "\n",
    "    # 4. Generate Summary\n",
    "    final_summary = generate_summary(drug_info)\n",
    "    print(\"Summary:\\n\", final_summary)\n",
    "else:\n",
    "    print(\"No matching drug found.\")"
   ]
  }
 ],
 "metadata": {
  "accelerator": "GPU",
  "colab": {
   "authorship_tag": "ABX9TyOmeQ4SsW1J2neleZy/fUr2",
   "gpuType": "A100",
   "provenance": []
  },
  "kernelspec": {
   "display_name": "Python 3",
   "name": "python3"
  },
  "language_info": {
   "name": "python"
  }
 },
 "nbformat": 4,
 "nbformat_minor": 0
}
